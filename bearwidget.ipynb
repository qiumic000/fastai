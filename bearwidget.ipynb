{
  "nbformat": 4,
  "nbformat_minor": 0,
  "metadata": {
    "colab": {
      "name": "Untitled1.ipynb",
      "provenance": [],
      "authorship_tag": "ABX9TyNCjWZjoaRG6IzLpVpBXC1w",
      "include_colab_link": true
    },
    "kernelspec": {
      "name": "python3",
      "display_name": "Python 3"
    },
    "language_info": {
      "name": "python"
    },
    "widgets": {
      "application/vnd.jupyter.widget-state+json": {
        "18a0a43ecde540788374b452c655860b": {
          "model_module": "@jupyter-widgets/controls",
          "model_name": "HBoxModel",
          "model_module_version": "1.5.0",
          "state": {
            "_view_name": "HBoxView",
            "_dom_classes": [],
            "_model_name": "HBoxModel",
            "_view_module": "@jupyter-widgets/controls",
            "_model_module_version": "1.5.0",
            "_view_count": null,
            "_view_module_version": "1.5.0",
            "box_style": "",
            "layout": "IPY_MODEL_9763dd1fb6674ad89ed8b90308b76213",
            "_model_module": "@jupyter-widgets/controls",
            "children": [
              "IPY_MODEL_d759724682d44c6c9c4bdbcc5e0c6e5f",
              "IPY_MODEL_c1ae83c773334f8b9af06c729d0d0596",
              "IPY_MODEL_5003b67f6bc04c63ad75288a1d3cccb5"
            ]
          }
        },
        "9763dd1fb6674ad89ed8b90308b76213": {
          "model_module": "@jupyter-widgets/base",
          "model_name": "LayoutModel",
          "model_module_version": "1.2.0",
          "state": {
            "_view_name": "LayoutView",
            "grid_template_rows": null,
            "right": null,
            "justify_content": null,
            "_view_module": "@jupyter-widgets/base",
            "overflow": null,
            "_model_module_version": "1.2.0",
            "_view_count": null,
            "flex_flow": null,
            "width": null,
            "min_width": null,
            "border": null,
            "align_items": null,
            "bottom": null,
            "_model_module": "@jupyter-widgets/base",
            "top": null,
            "grid_column": null,
            "overflow_y": null,
            "overflow_x": null,
            "grid_auto_flow": null,
            "grid_area": null,
            "grid_template_columns": null,
            "flex": null,
            "_model_name": "LayoutModel",
            "justify_items": null,
            "grid_row": null,
            "max_height": null,
            "align_content": null,
            "visibility": null,
            "align_self": null,
            "height": null,
            "min_height": null,
            "padding": null,
            "grid_auto_rows": null,
            "grid_gap": null,
            "max_width": null,
            "order": null,
            "_view_module_version": "1.2.0",
            "grid_template_areas": null,
            "object_position": null,
            "object_fit": null,
            "grid_auto_columns": null,
            "margin": null,
            "display": null,
            "left": null
          }
        },
        "d759724682d44c6c9c4bdbcc5e0c6e5f": {
          "model_module": "@jupyter-widgets/controls",
          "model_name": "HTMLModel",
          "model_module_version": "1.5.0",
          "state": {
            "_view_name": "HTMLView",
            "style": "IPY_MODEL_308b7d2353be4a3fbe6ade428e72cd75",
            "_dom_classes": [],
            "description": "",
            "_model_name": "HTMLModel",
            "placeholder": "​",
            "_view_module": "@jupyter-widgets/controls",
            "_model_module_version": "1.5.0",
            "value": "100%",
            "_view_count": null,
            "_view_module_version": "1.5.0",
            "description_tooltip": null,
            "_model_module": "@jupyter-widgets/controls",
            "layout": "IPY_MODEL_39f41fd5dc5d461a8e3958426f43669e"
          }
        },
        "c1ae83c773334f8b9af06c729d0d0596": {
          "model_module": "@jupyter-widgets/controls",
          "model_name": "FloatProgressModel",
          "model_module_version": "1.5.0",
          "state": {
            "_view_name": "ProgressView",
            "style": "IPY_MODEL_acfe5f3388574ed1815ec8ed0c4b7c85",
            "_dom_classes": [],
            "description": "",
            "_model_name": "FloatProgressModel",
            "bar_style": "success",
            "max": 46830571,
            "_view_module": "@jupyter-widgets/controls",
            "_model_module_version": "1.5.0",
            "value": 46830571,
            "_view_count": null,
            "_view_module_version": "1.5.0",
            "orientation": "horizontal",
            "min": 0,
            "description_tooltip": null,
            "_model_module": "@jupyter-widgets/controls",
            "layout": "IPY_MODEL_747fe679908848b49e9506b0dc73ce02"
          }
        },
        "5003b67f6bc04c63ad75288a1d3cccb5": {
          "model_module": "@jupyter-widgets/controls",
          "model_name": "HTMLModel",
          "model_module_version": "1.5.0",
          "state": {
            "_view_name": "HTMLView",
            "style": "IPY_MODEL_da343d316a0d4de09a0be497d61c1350",
            "_dom_classes": [],
            "description": "",
            "_model_name": "HTMLModel",
            "placeholder": "​",
            "_view_module": "@jupyter-widgets/controls",
            "_model_module_version": "1.5.0",
            "value": " 44.7M/44.7M [00:00&lt;00:00, 69.2MB/s]",
            "_view_count": null,
            "_view_module_version": "1.5.0",
            "description_tooltip": null,
            "_model_module": "@jupyter-widgets/controls",
            "layout": "IPY_MODEL_5d720ad7a9d644c5af6f8b227457fc1b"
          }
        },
        "308b7d2353be4a3fbe6ade428e72cd75": {
          "model_module": "@jupyter-widgets/controls",
          "model_name": "DescriptionStyleModel",
          "model_module_version": "1.5.0",
          "state": {
            "_view_name": "StyleView",
            "_model_name": "DescriptionStyleModel",
            "description_width": "",
            "_view_module": "@jupyter-widgets/base",
            "_model_module_version": "1.5.0",
            "_view_count": null,
            "_view_module_version": "1.2.0",
            "_model_module": "@jupyter-widgets/controls"
          }
        },
        "39f41fd5dc5d461a8e3958426f43669e": {
          "model_module": "@jupyter-widgets/base",
          "model_name": "LayoutModel",
          "model_module_version": "1.2.0",
          "state": {
            "_view_name": "LayoutView",
            "grid_template_rows": null,
            "right": null,
            "justify_content": null,
            "_view_module": "@jupyter-widgets/base",
            "overflow": null,
            "_model_module_version": "1.2.0",
            "_view_count": null,
            "flex_flow": null,
            "width": null,
            "min_width": null,
            "border": null,
            "align_items": null,
            "bottom": null,
            "_model_module": "@jupyter-widgets/base",
            "top": null,
            "grid_column": null,
            "overflow_y": null,
            "overflow_x": null,
            "grid_auto_flow": null,
            "grid_area": null,
            "grid_template_columns": null,
            "flex": null,
            "_model_name": "LayoutModel",
            "justify_items": null,
            "grid_row": null,
            "max_height": null,
            "align_content": null,
            "visibility": null,
            "align_self": null,
            "height": null,
            "min_height": null,
            "padding": null,
            "grid_auto_rows": null,
            "grid_gap": null,
            "max_width": null,
            "order": null,
            "_view_module_version": "1.2.0",
            "grid_template_areas": null,
            "object_position": null,
            "object_fit": null,
            "grid_auto_columns": null,
            "margin": null,
            "display": null,
            "left": null
          }
        },
        "acfe5f3388574ed1815ec8ed0c4b7c85": {
          "model_module": "@jupyter-widgets/controls",
          "model_name": "ProgressStyleModel",
          "model_module_version": "1.5.0",
          "state": {
            "_view_name": "StyleView",
            "_model_name": "ProgressStyleModel",
            "description_width": "",
            "_view_module": "@jupyter-widgets/base",
            "_model_module_version": "1.5.0",
            "_view_count": null,
            "_view_module_version": "1.2.0",
            "bar_color": null,
            "_model_module": "@jupyter-widgets/controls"
          }
        },
        "747fe679908848b49e9506b0dc73ce02": {
          "model_module": "@jupyter-widgets/base",
          "model_name": "LayoutModel",
          "model_module_version": "1.2.0",
          "state": {
            "_view_name": "LayoutView",
            "grid_template_rows": null,
            "right": null,
            "justify_content": null,
            "_view_module": "@jupyter-widgets/base",
            "overflow": null,
            "_model_module_version": "1.2.0",
            "_view_count": null,
            "flex_flow": null,
            "width": null,
            "min_width": null,
            "border": null,
            "align_items": null,
            "bottom": null,
            "_model_module": "@jupyter-widgets/base",
            "top": null,
            "grid_column": null,
            "overflow_y": null,
            "overflow_x": null,
            "grid_auto_flow": null,
            "grid_area": null,
            "grid_template_columns": null,
            "flex": null,
            "_model_name": "LayoutModel",
            "justify_items": null,
            "grid_row": null,
            "max_height": null,
            "align_content": null,
            "visibility": null,
            "align_self": null,
            "height": null,
            "min_height": null,
            "padding": null,
            "grid_auto_rows": null,
            "grid_gap": null,
            "max_width": null,
            "order": null,
            "_view_module_version": "1.2.0",
            "grid_template_areas": null,
            "object_position": null,
            "object_fit": null,
            "grid_auto_columns": null,
            "margin": null,
            "display": null,
            "left": null
          }
        },
        "da343d316a0d4de09a0be497d61c1350": {
          "model_module": "@jupyter-widgets/controls",
          "model_name": "DescriptionStyleModel",
          "model_module_version": "1.5.0",
          "state": {
            "_view_name": "StyleView",
            "_model_name": "DescriptionStyleModel",
            "description_width": "",
            "_view_module": "@jupyter-widgets/base",
            "_model_module_version": "1.5.0",
            "_view_count": null,
            "_view_module_version": "1.2.0",
            "_model_module": "@jupyter-widgets/controls"
          }
        },
        "5d720ad7a9d644c5af6f8b227457fc1b": {
          "model_module": "@jupyter-widgets/base",
          "model_name": "LayoutModel",
          "model_module_version": "1.2.0",
          "state": {
            "_view_name": "LayoutView",
            "grid_template_rows": null,
            "right": null,
            "justify_content": null,
            "_view_module": "@jupyter-widgets/base",
            "overflow": null,
            "_model_module_version": "1.2.0",
            "_view_count": null,
            "flex_flow": null,
            "width": null,
            "min_width": null,
            "border": null,
            "align_items": null,
            "bottom": null,
            "_model_module": "@jupyter-widgets/base",
            "top": null,
            "grid_column": null,
            "overflow_y": null,
            "overflow_x": null,
            "grid_auto_flow": null,
            "grid_area": null,
            "grid_template_columns": null,
            "flex": null,
            "_model_name": "LayoutModel",
            "justify_items": null,
            "grid_row": null,
            "max_height": null,
            "align_content": null,
            "visibility": null,
            "align_self": null,
            "height": null,
            "min_height": null,
            "padding": null,
            "grid_auto_rows": null,
            "grid_gap": null,
            "max_width": null,
            "order": null,
            "_view_module_version": "1.2.0",
            "grid_template_areas": null,
            "object_position": null,
            "object_fit": null,
            "grid_auto_columns": null,
            "margin": null,
            "display": null,
            "left": null
          }
        },
        "afab0424ab7f437a84cdcf3514a24600": {
          "model_module": "@jupyter-widgets/controls",
          "model_name": "FileUploadModel",
          "model_module_version": "1.5.0",
          "state": {
            "_view_name": "FileUploadView",
            "_counter": 1,
            "style": "IPY_MODEL_fbddc4d59b2a4c93a21bfee2e984a177",
            "_dom_classes": [],
            "description": "Upload",
            "multiple": false,
            "_model_name": "FileUploadModel",
            "data": [
              null
            ],
            "button_style": "",
            "_view_module": "@jupyter-widgets/controls",
            "_model_module_version": "1.5.0",
            "accept": "",
            "_view_count": null,
            "disabled": false,
            "_view_module_version": "1.5.0",
            "error": "",
            "description_tooltip": null,
            "metadata": [
              {
                "name": "bear.jpg",
                "type": "image/jpeg",
                "size": 159755,
                "lastModified": 1646711834970
              }
            ],
            "_model_module": "@jupyter-widgets/controls",
            "layout": "IPY_MODEL_e0db4354fd6c4249834ad2559e3414d9",
            "icon": "upload"
          }
        },
        "fbddc4d59b2a4c93a21bfee2e984a177": {
          "model_module": "@jupyter-widgets/controls",
          "model_name": "ButtonStyleModel",
          "model_module_version": "1.5.0",
          "state": {
            "_view_name": "StyleView",
            "_model_name": "ButtonStyleModel",
            "_view_module": "@jupyter-widgets/base",
            "_model_module_version": "1.5.0",
            "_view_count": null,
            "button_color": null,
            "font_weight": "",
            "_view_module_version": "1.2.0",
            "_model_module": "@jupyter-widgets/controls"
          }
        },
        "e0db4354fd6c4249834ad2559e3414d9": {
          "model_module": "@jupyter-widgets/base",
          "model_name": "LayoutModel",
          "model_module_version": "1.2.0",
          "state": {
            "_view_name": "LayoutView",
            "grid_template_rows": null,
            "right": null,
            "justify_content": null,
            "_view_module": "@jupyter-widgets/base",
            "overflow": null,
            "_model_module_version": "1.2.0",
            "_view_count": null,
            "flex_flow": null,
            "width": null,
            "min_width": null,
            "border": null,
            "align_items": null,
            "bottom": null,
            "_model_module": "@jupyter-widgets/base",
            "top": null,
            "grid_column": null,
            "overflow_y": null,
            "overflow_x": null,
            "grid_auto_flow": null,
            "grid_area": null,
            "grid_template_columns": null,
            "flex": null,
            "_model_name": "LayoutModel",
            "justify_items": null,
            "grid_row": null,
            "max_height": null,
            "align_content": null,
            "visibility": null,
            "align_self": null,
            "height": null,
            "min_height": null,
            "padding": null,
            "grid_auto_rows": null,
            "grid_gap": null,
            "max_width": null,
            "order": null,
            "_view_module_version": "1.2.0",
            "grid_template_areas": null,
            "object_position": null,
            "object_fit": null,
            "grid_auto_columns": null,
            "margin": null,
            "display": null,
            "left": null
          }
        },
        "1bb85fc96a48465997ba1d7a981518d5": {
          "model_module": "@jupyter-widgets/controls",
          "model_name": "VBoxModel",
          "model_module_version": "1.5.0",
          "state": {
            "_view_name": "VBoxView",
            "_dom_classes": [],
            "_model_name": "VBoxModel",
            "_view_module": "@jupyter-widgets/controls",
            "_model_module_version": "1.5.0",
            "_view_count": null,
            "_view_module_version": "1.5.0",
            "box_style": "",
            "layout": "IPY_MODEL_34ac5aa4926241718423bd596af5b121",
            "_model_module": "@jupyter-widgets/controls",
            "children": [
              "IPY_MODEL_428f1c17d9794254a54bb2e0b89ba05f",
              "IPY_MODEL_afab0424ab7f437a84cdcf3514a24600",
              "IPY_MODEL_dbbaa417d8074d58a2bfbeec21160d2d",
              "IPY_MODEL_85e3163b973047f5a66c23970e5c40b7",
              "IPY_MODEL_6a87e6bb803b4483bd52e51f2ac7a19d"
            ]
          }
        },
        "34ac5aa4926241718423bd596af5b121": {
          "model_module": "@jupyter-widgets/base",
          "model_name": "LayoutModel",
          "model_module_version": "1.2.0",
          "state": {
            "_view_name": "LayoutView",
            "grid_template_rows": null,
            "right": null,
            "justify_content": null,
            "_view_module": "@jupyter-widgets/base",
            "overflow": null,
            "_model_module_version": "1.2.0",
            "_view_count": null,
            "flex_flow": null,
            "width": null,
            "min_width": null,
            "border": null,
            "align_items": null,
            "bottom": null,
            "_model_module": "@jupyter-widgets/base",
            "top": null,
            "grid_column": null,
            "overflow_y": null,
            "overflow_x": null,
            "grid_auto_flow": null,
            "grid_area": null,
            "grid_template_columns": null,
            "flex": null,
            "_model_name": "LayoutModel",
            "justify_items": null,
            "grid_row": null,
            "max_height": null,
            "align_content": null,
            "visibility": null,
            "align_self": null,
            "height": null,
            "min_height": null,
            "padding": null,
            "grid_auto_rows": null,
            "grid_gap": null,
            "max_width": null,
            "order": null,
            "_view_module_version": "1.2.0",
            "grid_template_areas": null,
            "object_position": null,
            "object_fit": null,
            "grid_auto_columns": null,
            "margin": null,
            "display": null,
            "left": null
          }
        },
        "428f1c17d9794254a54bb2e0b89ba05f": {
          "model_module": "@jupyter-widgets/controls",
          "model_name": "LabelModel",
          "model_module_version": "1.5.0",
          "state": {
            "_view_name": "LabelView",
            "style": "IPY_MODEL_38bb479079224287b417f34390f80c62",
            "_dom_classes": [],
            "description": "",
            "_model_name": "LabelModel",
            "placeholder": "​",
            "_view_module": "@jupyter-widgets/controls",
            "_model_module_version": "1.5.0",
            "value": "Select your bear!",
            "_view_count": null,
            "_view_module_version": "1.5.0",
            "description_tooltip": null,
            "_model_module": "@jupyter-widgets/controls",
            "layout": "IPY_MODEL_d59cbaaf074649809e5a9ff221e32870"
          }
        },
        "dbbaa417d8074d58a2bfbeec21160d2d": {
          "model_module": "@jupyter-widgets/controls",
          "model_name": "ButtonModel",
          "model_module_version": "1.5.0",
          "state": {
            "_view_name": "ButtonView",
            "style": "IPY_MODEL_2452d8ff9f5c4c23b9acfd88aa49aea6",
            "_dom_classes": [],
            "description": "Classify",
            "_model_name": "ButtonModel",
            "button_style": "",
            "_view_module": "@jupyter-widgets/controls",
            "_model_module_version": "1.5.0",
            "tooltip": "",
            "_view_count": null,
            "disabled": false,
            "_view_module_version": "1.5.0",
            "layout": "IPY_MODEL_7d65afa52875419e93f07cf8a604dc74",
            "_model_module": "@jupyter-widgets/controls",
            "icon": ""
          }
        },
        "85e3163b973047f5a66c23970e5c40b7": {
          "model_module": "@jupyter-widgets/output",
          "model_name": "OutputModel",
          "model_module_version": "1.0.0",
          "state": {
            "_view_name": "OutputView",
            "msg_id": "",
            "_dom_classes": [],
            "_model_name": "OutputModel",
            "outputs": [
              {
                "output_type": "display_data",
                "data": {
                  "image/png": "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\n",
                  "text/plain": "<PIL.Image.Image image mode=RGB size=128x64 at 0x7F7CE11FA690>"
                },
                "metadata": {}
              }
            ],
            "_view_module": "@jupyter-widgets/output",
            "_model_module_version": "1.0.0",
            "_view_count": null,
            "_view_module_version": "1.0.0",
            "layout": "IPY_MODEL_edd4838cf80f40abb2d09b26134b0f93",
            "_model_module": "@jupyter-widgets/output"
          }
        },
        "6a87e6bb803b4483bd52e51f2ac7a19d": {
          "model_module": "@jupyter-widgets/controls",
          "model_name": "LabelModel",
          "model_module_version": "1.5.0",
          "state": {
            "_view_name": "LabelView",
            "style": "IPY_MODEL_f723937da8904c31ad3095df843483ed",
            "_dom_classes": [],
            "description": "",
            "_model_name": "LabelModel",
            "placeholder": "​",
            "_view_module": "@jupyter-widgets/controls",
            "_model_module_version": "1.5.0",
            "value": "Prediction: grizzly; Probability: 1.0000",
            "_view_count": null,
            "_view_module_version": "1.5.0",
            "description_tooltip": null,
            "_model_module": "@jupyter-widgets/controls",
            "layout": "IPY_MODEL_68cee14515d24ed8acd3ccac850888ed"
          }
        },
        "38bb479079224287b417f34390f80c62": {
          "model_module": "@jupyter-widgets/controls",
          "model_name": "DescriptionStyleModel",
          "model_module_version": "1.5.0",
          "state": {
            "_view_name": "StyleView",
            "_model_name": "DescriptionStyleModel",
            "description_width": "",
            "_view_module": "@jupyter-widgets/base",
            "_model_module_version": "1.5.0",
            "_view_count": null,
            "_view_module_version": "1.2.0",
            "_model_module": "@jupyter-widgets/controls"
          }
        },
        "d59cbaaf074649809e5a9ff221e32870": {
          "model_module": "@jupyter-widgets/base",
          "model_name": "LayoutModel",
          "model_module_version": "1.2.0",
          "state": {
            "_view_name": "LayoutView",
            "grid_template_rows": null,
            "right": null,
            "justify_content": null,
            "_view_module": "@jupyter-widgets/base",
            "overflow": null,
            "_model_module_version": "1.2.0",
            "_view_count": null,
            "flex_flow": null,
            "width": null,
            "min_width": null,
            "border": null,
            "align_items": null,
            "bottom": null,
            "_model_module": "@jupyter-widgets/base",
            "top": null,
            "grid_column": null,
            "overflow_y": null,
            "overflow_x": null,
            "grid_auto_flow": null,
            "grid_area": null,
            "grid_template_columns": null,
            "flex": null,
            "_model_name": "LayoutModel",
            "justify_items": null,
            "grid_row": null,
            "max_height": null,
            "align_content": null,
            "visibility": null,
            "align_self": null,
            "height": null,
            "min_height": null,
            "padding": null,
            "grid_auto_rows": null,
            "grid_gap": null,
            "max_width": null,
            "order": null,
            "_view_module_version": "1.2.0",
            "grid_template_areas": null,
            "object_position": null,
            "object_fit": null,
            "grid_auto_columns": null,
            "margin": null,
            "display": null,
            "left": null
          }
        },
        "2452d8ff9f5c4c23b9acfd88aa49aea6": {
          "model_module": "@jupyter-widgets/controls",
          "model_name": "ButtonStyleModel",
          "model_module_version": "1.5.0",
          "state": {
            "_view_name": "StyleView",
            "_model_name": "ButtonStyleModel",
            "_view_module": "@jupyter-widgets/base",
            "_model_module_version": "1.5.0",
            "_view_count": null,
            "button_color": null,
            "font_weight": "",
            "_view_module_version": "1.2.0",
            "_model_module": "@jupyter-widgets/controls"
          }
        },
        "7d65afa52875419e93f07cf8a604dc74": {
          "model_module": "@jupyter-widgets/base",
          "model_name": "LayoutModel",
          "model_module_version": "1.2.0",
          "state": {
            "_view_name": "LayoutView",
            "grid_template_rows": null,
            "right": null,
            "justify_content": null,
            "_view_module": "@jupyter-widgets/base",
            "overflow": null,
            "_model_module_version": "1.2.0",
            "_view_count": null,
            "flex_flow": null,
            "width": null,
            "min_width": null,
            "border": null,
            "align_items": null,
            "bottom": null,
            "_model_module": "@jupyter-widgets/base",
            "top": null,
            "grid_column": null,
            "overflow_y": null,
            "overflow_x": null,
            "grid_auto_flow": null,
            "grid_area": null,
            "grid_template_columns": null,
            "flex": null,
            "_model_name": "LayoutModel",
            "justify_items": null,
            "grid_row": null,
            "max_height": null,
            "align_content": null,
            "visibility": null,
            "align_self": null,
            "height": null,
            "min_height": null,
            "padding": null,
            "grid_auto_rows": null,
            "grid_gap": null,
            "max_width": null,
            "order": null,
            "_view_module_version": "1.2.0",
            "grid_template_areas": null,
            "object_position": null,
            "object_fit": null,
            "grid_auto_columns": null,
            "margin": null,
            "display": null,
            "left": null
          }
        },
        "f723937da8904c31ad3095df843483ed": {
          "model_module": "@jupyter-widgets/controls",
          "model_name": "DescriptionStyleModel",
          "model_module_version": "1.5.0",
          "state": {
            "_view_name": "StyleView",
            "_model_name": "DescriptionStyleModel",
            "description_width": "",
            "_view_module": "@jupyter-widgets/base",
            "_model_module_version": "1.5.0",
            "_view_count": null,
            "_view_module_version": "1.2.0",
            "_model_module": "@jupyter-widgets/controls"
          }
        },
        "68cee14515d24ed8acd3ccac850888ed": {
          "model_module": "@jupyter-widgets/base",
          "model_name": "LayoutModel",
          "model_module_version": "1.2.0",
          "state": {
            "_view_name": "LayoutView",
            "grid_template_rows": null,
            "right": null,
            "justify_content": null,
            "_view_module": "@jupyter-widgets/base",
            "overflow": null,
            "_model_module_version": "1.2.0",
            "_view_count": null,
            "flex_flow": null,
            "width": null,
            "min_width": null,
            "border": null,
            "align_items": null,
            "bottom": null,
            "_model_module": "@jupyter-widgets/base",
            "top": null,
            "grid_column": null,
            "overflow_y": null,
            "overflow_x": null,
            "grid_auto_flow": null,
            "grid_area": null,
            "grid_template_columns": null,
            "flex": null,
            "_model_name": "LayoutModel",
            "justify_items": null,
            "grid_row": null,
            "max_height": null,
            "align_content": null,
            "visibility": null,
            "align_self": null,
            "height": null,
            "min_height": null,
            "padding": null,
            "grid_auto_rows": null,
            "grid_gap": null,
            "max_width": null,
            "order": null,
            "_view_module_version": "1.2.0",
            "grid_template_areas": null,
            "object_position": null,
            "object_fit": null,
            "grid_auto_columns": null,
            "margin": null,
            "display": null,
            "left": null
          }
        },
        "edd4838cf80f40abb2d09b26134b0f93": {
          "model_module": "@jupyter-widgets/base",
          "model_name": "LayoutModel",
          "model_module_version": "1.2.0",
          "state": {
            "_view_name": "LayoutView",
            "grid_template_rows": null,
            "right": null,
            "justify_content": null,
            "_view_module": "@jupyter-widgets/base",
            "overflow": null,
            "_model_module_version": "1.2.0",
            "_view_count": null,
            "flex_flow": null,
            "width": null,
            "min_width": null,
            "border": null,
            "align_items": null,
            "bottom": null,
            "_model_module": "@jupyter-widgets/base",
            "top": null,
            "grid_column": null,
            "overflow_y": null,
            "overflow_x": null,
            "grid_auto_flow": null,
            "grid_area": null,
            "grid_template_columns": null,
            "flex": null,
            "_model_name": "LayoutModel",
            "justify_items": null,
            "grid_row": null,
            "max_height": null,
            "align_content": null,
            "visibility": null,
            "align_self": null,
            "height": null,
            "min_height": null,
            "padding": null,
            "grid_auto_rows": null,
            "grid_gap": null,
            "max_width": null,
            "order": null,
            "_view_module_version": "1.2.0",
            "grid_template_areas": null,
            "object_position": null,
            "object_fit": null,
            "grid_auto_columns": null,
            "margin": null,
            "display": null,
            "left": null
          }
        }
      }
    }
  },
  "cells": [
    {
      "cell_type": "markdown",
      "metadata": {
        "id": "view-in-github",
        "colab_type": "text"
      },
      "source": [
        "<a href=\"https://colab.research.google.com/github/qiumic000/fastai/blob/master/bearwidget.ipynb\" target=\"_parent\"><img src=\"https://colab.research.google.com/assets/colab-badge.svg\" alt=\"Open In Colab\"/></a>"
      ]
    },
    {
      "cell_type": "code",
      "execution_count": 2,
      "metadata": {
        "colab": {
          "base_uri": "https://localhost:8080/"
        },
        "id": "7OU9-yaaGeV6",
        "outputId": "fddc01c8-11d3-4568-efbc-9aa48c624b86"
      },
      "outputs": [
        {
          "output_type": "stream",
          "name": "stdout",
          "text": [
            "\u001b[K     |████████████████████████████████| 720 kB 3.1 MB/s \n",
            "\u001b[K     |████████████████████████████████| 189 kB 58.1 MB/s \n",
            "\u001b[K     |████████████████████████████████| 1.2 MB 47.8 MB/s \n",
            "\u001b[K     |████████████████████████████████| 48 kB 3.9 MB/s \n",
            "\u001b[K     |████████████████████████████████| 55 kB 3.3 MB/s \n",
            "\u001b[K     |████████████████████████████████| 558 kB 42.8 MB/s \n",
            "\u001b[K     |████████████████████████████████| 51 kB 211 kB/s \n",
            "\u001b[K     |████████████████████████████████| 130 kB 52.6 MB/s \n",
            "\u001b[?25hMounted at /content/gdrive\n"
          ]
        }
      ],
      "source": [
        "!pip install -Uqq fastbook\n",
        "import fastbook\n",
        "fastbook.setup_book()\n",
        "from fastbook import *\n",
        "from fastai.vision.widgets import *"
      ]
    },
    {
      "cell_type": "code",
      "source": [
        "key = os.environ.get('AZURE_SEARCH_KEY', '60f8c68cc3364a91bc2512ea1fa49aaf')\n",
        "bear_types = 'grizzly','black','teddy'\n",
        "path = Path('bears')"
      ],
      "metadata": {
        "id": "WHecSqu-GmdZ"
      },
      "execution_count": 3,
      "outputs": []
    },
    {
      "cell_type": "code",
      "source": [
        "if not path.exists():\n",
        "    path.mkdir()\n",
        "    for o in bear_types:\n",
        "        dest = (path/o)\n",
        "        dest.mkdir(exist_ok=True)\n",
        "        results = search_images_bing(key, f'{o} bear')\n",
        "        download_images(dest, urls=results.attrgot('contentUrl'))"
      ],
      "metadata": {
        "id": "nqVWklVjGwBr"
      },
      "execution_count": 4,
      "outputs": []
    },
    {
      "cell_type": "code",
      "source": [
        "fns = get_image_files(path)\n",
        "failed = verify_images(fns)\n",
        "failed.map(Path.unlink);"
      ],
      "metadata": {
        "id": "CHHqL5lrGwdu"
      },
      "execution_count": 5,
      "outputs": []
    },
    {
      "cell_type": "code",
      "source": [
        "bears = DataBlock(\n",
        "    blocks=(ImageBlock, CategoryBlock), \n",
        "    get_items=get_image_files, \n",
        "    splitter=RandomSplitter(valid_pct=0.2, seed=42),\n",
        "    get_y=parent_label,\n",
        "    item_tfms=Resize(128))\n",
        "dls = bears.dataloaders(path)\n",
        "bears = bears.new(\n",
        "    item_tfms=RandomResizedCrop(224, min_scale=0.5),\n",
        "    batch_tfms=aug_transforms())\n",
        "learn = cnn_learner(dls, resnet18, metrics=error_rate)\n"
      ],
      "metadata": {
        "colab": {
          "base_uri": "https://localhost:8080/",
          "height": 66,
          "referenced_widgets": [
            "18a0a43ecde540788374b452c655860b",
            "9763dd1fb6674ad89ed8b90308b76213",
            "d759724682d44c6c9c4bdbcc5e0c6e5f",
            "c1ae83c773334f8b9af06c729d0d0596",
            "5003b67f6bc04c63ad75288a1d3cccb5",
            "308b7d2353be4a3fbe6ade428e72cd75",
            "39f41fd5dc5d461a8e3958426f43669e",
            "acfe5f3388574ed1815ec8ed0c4b7c85",
            "747fe679908848b49e9506b0dc73ce02",
            "da343d316a0d4de09a0be497d61c1350",
            "5d720ad7a9d644c5af6f8b227457fc1b"
          ]
        },
        "id": "VxDOJKJ1G24t",
        "outputId": "5469d394-d85c-48a5-bc1d-dba8c8600e0e"
      },
      "execution_count": 6,
      "outputs": [
        {
          "output_type": "stream",
          "name": "stderr",
          "text": [
            "Downloading: \"https://download.pytorch.org/models/resnet18-f37072fd.pth\" to /root/.cache/torch/hub/checkpoints/resnet18-f37072fd.pth\n"
          ]
        },
        {
          "output_type": "display_data",
          "data": {
            "application/vnd.jupyter.widget-view+json": {
              "model_id": "18a0a43ecde540788374b452c655860b",
              "version_minor": 0,
              "version_major": 2
            },
            "text/plain": [
              "  0%|          | 0.00/44.7M [00:00<?, ?B/s]"
            ]
          },
          "metadata": {}
        }
      ]
    },
    {
      "cell_type": "code",
      "source": [
        "learn.fine_tune(4)"
      ],
      "metadata": {
        "colab": {
          "base_uri": "https://localhost:8080/",
          "height": 238
        },
        "id": "VKBNL7C0HJTs",
        "outputId": "1678d523-b105-42ca-ec55-c8a3a6f8c81b"
      },
      "execution_count": 7,
      "outputs": [
        {
          "output_type": "display_data",
          "data": {
            "text/html": [
              "\n",
              "<style>\n",
              "    /* Turns off some styling */\n",
              "    progress {\n",
              "        /* gets rid of default border in Firefox and Opera. */\n",
              "        border: none;\n",
              "        /* Needs to be in here for Safari polyfill so background images work as expected. */\n",
              "        background-size: auto;\n",
              "    }\n",
              "    .progress-bar-interrupted, .progress-bar-interrupted::-webkit-progress-bar {\n",
              "        background: #F44336;\n",
              "    }\n",
              "</style>\n"
            ],
            "text/plain": [
              "<IPython.core.display.HTML object>"
            ]
          },
          "metadata": {}
        },
        {
          "output_type": "display_data",
          "data": {
            "text/html": [
              "<table border=\"1\" class=\"dataframe\">\n",
              "  <thead>\n",
              "    <tr style=\"text-align: left;\">\n",
              "      <th>epoch</th>\n",
              "      <th>train_loss</th>\n",
              "      <th>valid_loss</th>\n",
              "      <th>error_rate</th>\n",
              "      <th>time</th>\n",
              "    </tr>\n",
              "  </thead>\n",
              "  <tbody>\n",
              "    <tr>\n",
              "      <td>0</td>\n",
              "      <td>1.679296</td>\n",
              "      <td>0.419671</td>\n",
              "      <td>0.129412</td>\n",
              "      <td>00:51</td>\n",
              "    </tr>\n",
              "  </tbody>\n",
              "</table>"
            ],
            "text/plain": [
              "<IPython.core.display.HTML object>"
            ]
          },
          "metadata": {}
        },
        {
          "output_type": "display_data",
          "data": {
            "text/html": [
              "\n",
              "<style>\n",
              "    /* Turns off some styling */\n",
              "    progress {\n",
              "        /* gets rid of default border in Firefox and Opera. */\n",
              "        border: none;\n",
              "        /* Needs to be in here for Safari polyfill so background images work as expected. */\n",
              "        background-size: auto;\n",
              "    }\n",
              "    .progress-bar-interrupted, .progress-bar-interrupted::-webkit-progress-bar {\n",
              "        background: #F44336;\n",
              "    }\n",
              "</style>\n"
            ],
            "text/plain": [
              "<IPython.core.display.HTML object>"
            ]
          },
          "metadata": {}
        },
        {
          "output_type": "display_data",
          "data": {
            "text/html": [
              "<table border=\"1\" class=\"dataframe\">\n",
              "  <thead>\n",
              "    <tr style=\"text-align: left;\">\n",
              "      <th>epoch</th>\n",
              "      <th>train_loss</th>\n",
              "      <th>valid_loss</th>\n",
              "      <th>error_rate</th>\n",
              "      <th>time</th>\n",
              "    </tr>\n",
              "  </thead>\n",
              "  <tbody>\n",
              "    <tr>\n",
              "      <td>0</td>\n",
              "      <td>0.294730</td>\n",
              "      <td>0.101042</td>\n",
              "      <td>0.023529</td>\n",
              "      <td>01:03</td>\n",
              "    </tr>\n",
              "    <tr>\n",
              "      <td>1</td>\n",
              "      <td>0.200229</td>\n",
              "      <td>0.075639</td>\n",
              "      <td>0.023529</td>\n",
              "      <td>01:03</td>\n",
              "    </tr>\n",
              "    <tr>\n",
              "      <td>2</td>\n",
              "      <td>0.148665</td>\n",
              "      <td>0.059720</td>\n",
              "      <td>0.023529</td>\n",
              "      <td>01:02</td>\n",
              "    </tr>\n",
              "    <tr>\n",
              "      <td>3</td>\n",
              "      <td>0.114739</td>\n",
              "      <td>0.061370</td>\n",
              "      <td>0.035294</td>\n",
              "      <td>01:01</td>\n",
              "    </tr>\n",
              "  </tbody>\n",
              "</table>"
            ],
            "text/plain": [
              "<IPython.core.display.HTML object>"
            ]
          },
          "metadata": {}
        }
      ]
    },
    {
      "cell_type": "code",
      "source": [
        "interp = ClassificationInterpretation.from_learner(learn)\n",
        "interp.plot_confusion_matrix()"
      ],
      "metadata": {
        "colab": {
          "base_uri": "https://localhost:8080/",
          "height": 310
        },
        "id": "Kedb07_yHJcP",
        "outputId": "e73c196e-20de-4e19-cf89-5f57e7c2c452"
      },
      "execution_count": 8,
      "outputs": [
        {
          "output_type": "display_data",
          "data": {
            "text/html": [
              "\n",
              "<style>\n",
              "    /* Turns off some styling */\n",
              "    progress {\n",
              "        /* gets rid of default border in Firefox and Opera. */\n",
              "        border: none;\n",
              "        /* Needs to be in here for Safari polyfill so background images work as expected. */\n",
              "        background-size: auto;\n",
              "    }\n",
              "    .progress-bar-interrupted, .progress-bar-interrupted::-webkit-progress-bar {\n",
              "        background: #F44336;\n",
              "    }\n",
              "</style>\n"
            ],
            "text/plain": [
              "<IPython.core.display.HTML object>"
            ]
          },
          "metadata": {}
        },
        {
          "output_type": "display_data",
          "data": {
            "text/html": [
              ""
            ],
            "text/plain": [
              "<IPython.core.display.HTML object>"
            ]
          },
          "metadata": {}
        },
        {
          "output_type": "display_data",
          "data": {
            "image/png": "[encoded data removed]",
            "text/plain": [
              "<Figure size 432x288 with 1 Axes>"
            ]
          },
          "metadata": {
            "needs_background": "light"
          }
        }
      ]
    },
    {
      "cell_type": "code",
      "source": [
        "learn.export()\n",
        "path = Path()\n",
        "path.ls(file_exts='.pkl')"
      ],
      "metadata": {
        "colab": {
          "base_uri": "https://localhost:8080/"
        },
        "id": "cePqLKbuHQHG",
        "outputId": "f280444e-2edf-4b68-a79f-8aaeed842b28"
      },
      "execution_count": 10,
      "outputs": [
        {
          "output_type": "execute_result",
          "data": {
            "text/plain": [
              "(#1) [Path('export.pkl')]"
            ]
          },
          "metadata": {},
          "execution_count": 10
        }
      ]
    },
    {
      "cell_type": "code",
      "source": [
        "path = Path()\n",
        "learn_inf = load_learner(path/'export.pkl')\n",
        "btn_upload = widgets.FileUpload()\n",
        "btn_run = widgets.Button(description = \"Classify\")\n",
        "def on_click_classify(change):\n",
        "    img = PILImage.create(btn_upload.data[-1])\n",
        "    out_pl.clear_output()\n",
        "    with out_pl: display(img.to_thumb(128,128))\n",
        "    pred,pred_idx,probs = learn_inf.predict(img)\n",
        "    lbl_pred.value = f'Prediction: {pred}; Probability: {probs[pred_idx]:.04f}'\n",
        "out_pl = widgets.Output()\n",
        "out_pl.clear_output()\n",
        "btn_upload\n"
      ],
      "metadata": {
        "colab": {
          "base_uri": "https://localhost:8080/",
          "height": 49,
          "referenced_widgets": [
            "afab0424ab7f437a84cdcf3514a24600",
            "fbddc4d59b2a4c93a21bfee2e984a177",
            "e0db4354fd6c4249834ad2559e3414d9"
          ]
        },
        "id": "4OWhL7LaKRdE",
        "outputId": "3d41e537-3d06-44b2-8b30-49439d20f3f5"
      },
      "execution_count": 19,
      "outputs": [
        {
          "output_type": "display_data",
          "data": {
            "application/vnd.jupyter.widget-view+json": {
              "model_id": "afab0424ab7f437a84cdcf3514a24600",
              "version_minor": 0,
              "version_major": 2
            },
            "text/plain": [
              "FileUpload(value={}, description='Upload')"
            ]
          },
          "metadata": {}
        }
      ]
    },
    {
      "cell_type": "code",
      "source": [
        "img = PILImage.create(btn_upload.data[-1])\n",
        "\n",
        "with out_pl: display(img.to_thumb(128,128))\n",
        "pred,pred_idx,probs = learn_inf.predict(img)\n",
        "lbl_pred = widgets.Label()\n",
        "lbl_pred.value = f'Prediction: {pred}; Probability: {probs[pred_idx]:.04f}'\n",
        "\n",
        "VBox([widgets.Label('Select your bear!'), \n",
        "      btn_upload, btn_run, out_pl, lbl_pred])"
      ],
      "metadata": {
        "colab": {
          "base_uri": "https://localhost:8080/",
          "height": 209,
          "referenced_widgets": [
            "1bb85fc96a48465997ba1d7a981518d5",
            "34ac5aa4926241718423bd596af5b121",
            "428f1c17d9794254a54bb2e0b89ba05f",
            "afab0424ab7f437a84cdcf3514a24600",
            "dbbaa417d8074d58a2bfbeec21160d2d",
            "85e3163b973047f5a66c23970e5c40b7",
            "6a87e6bb803b4483bd52e51f2ac7a19d",
            "38bb479079224287b417f34390f80c62",
            "d59cbaaf074649809e5a9ff221e32870",
            "fbddc4d59b2a4c93a21bfee2e984a177",
            "e0db4354fd6c4249834ad2559e3414d9",
            "2452d8ff9f5c4c23b9acfd88aa49aea6",
            "7d65afa52875419e93f07cf8a604dc74",
            "f723937da8904c31ad3095df843483ed",
            "68cee14515d24ed8acd3ccac850888ed",
            "edd4838cf80f40abb2d09b26134b0f93"
          ]
        },
        "id": "0pzOkt4ZKubb",
        "outputId": "bb3b8459-4ed9-4349-9088-31135d949457"
      },
      "execution_count": 20,
      "outputs": [
        {
          "output_type": "display_data",
          "data": {
            "text/html": [
              "\n",
              "<style>\n",
              "    /* Turns off some styling */\n",
              "    progress {\n",
              "        /* gets rid of default border in Firefox and Opera. */\n",
              "        border: none;\n",
              "        /* Needs to be in here for Safari polyfill so background images work as expected. */\n",
              "        background-size: auto;\n",
              "    }\n",
              "    .progress-bar-interrupted, .progress-bar-interrupted::-webkit-progress-bar {\n",
              "        background: #F44336;\n",
              "    }\n",
              "</style>\n"
            ],
            "text/plain": [
              "<IPython.core.display.HTML object>"
            ]
          },
          "metadata": {}
        },
        {
          "output_type": "display_data",
          "data": {
            "text/html": [
              ""
            ],
            "text/plain": [
              "<IPython.core.display.HTML object>"
            ]
          },
          "metadata": {}
        },
        {
          "output_type": "display_data",
          "data": {
            "application/vnd.jupyter.widget-view+json": {
              "model_id": "1bb85fc96a48465997ba1d7a981518d5",
              "version_minor": 0,
              "version_major": 2
            },
            "text/plain": [
              "VBox(children=(Label(value='Select your bear!'), FileUpload(value={'bear.jpg': {'metadata': {'lastModified': 1…"
            ]
          },
          "metadata": {}
        }
      ]
    },
    {
      "cell_type": "code",
      "source": [
        "!pip install voila\n",
        "!jupyter serverextension enable --sys-prefix voila "
      ],
      "metadata": {
        "colab": {
          "base_uri": "https://localhost:8080/",
          "height": 1000
        },
        "id": "u48NbNFbK7i-",
        "outputId": "c483bbf1-e23c-4843-9d4c-985d41c58913"
      },
      "execution_count": 21,
      "outputs": [
        {
          "output_type": "stream",
          "name": "stdout",
          "text": [
            "Collecting voila\n",
            "  Downloading voila-0.3.2-py3-none-any.whl (1.7 MB)\n",
            "\u001b[K     |████████████████████████████████| 1.7 MB 3.2 MB/s \n",
            "\u001b[?25hCollecting jupyter-server<2.0.0,>=0.3.0\n",
            "  Downloading jupyter_server-1.13.5-py3-none-any.whl (397 kB)\n",
            "\u001b[K     |████████████████████████████████| 397 kB 42.9 MB/s \n",
            "\u001b[?25hRequirement already satisfied: traitlets<6,>=5.0.3 in /usr/local/lib/python3.7/dist-packages (from voila) (5.1.1)\n",
            "Collecting jupyterlab-server<3,>=2.3.0\n",
            "  Downloading jupyterlab_server-2.10.3-py3-none-any.whl (61 kB)\n",
            "\u001b[K     |████████████████████████████████| 61 kB 6.5 MB/s \n",
            "\u001b[?25hCollecting websockets>=9.0\n",
            "  Downloading websockets-10.2-cp37-cp37m-manylinux_2_5_x86_64.manylinux1_x86_64.manylinux_2_12_x86_64.manylinux2010_x86_64.whl (111 kB)\n",
            "\u001b[K     |████████████████████████████████| 111 kB 62.2 MB/s \n",
            "\u001b[?25hRequirement already satisfied: jupyter-client<8,>=6.1.3 in /usr/local/lib/python3.7/dist-packages (from voila) (7.1.2)\n",
            "Requirement already satisfied: nbconvert<7,>=6.4.2 in /usr/local/lib/python3.7/dist-packages (from voila) (6.4.2)\n",
            "Requirement already satisfied: nbclient<0.6,>=0.4.0 in /usr/local/lib/python3.7/dist-packages (from voila) (0.5.12)\n",
            "Requirement already satisfied: python-dateutil>=2.1 in /usr/local/lib/python3.7/dist-packages (from jupyter-client<8,>=6.1.3->voila) (2.8.2)\n",
            "Requirement already satisfied: tornado>=4.1 in /usr/local/lib/python3.7/dist-packages (from jupyter-client<8,>=6.1.3->voila) (5.1.1)\n",
            "Requirement already satisfied: jupyter-core>=4.6.0 in /usr/local/lib/python3.7/dist-packages (from jupyter-client<8,>=6.1.3->voila) (4.9.2)\n",
            "Requirement already satisfied: entrypoints in /usr/local/lib/python3.7/dist-packages (from jupyter-client<8,>=6.1.3->voila) (0.4)\n",
            "Requirement already satisfied: pyzmq>=13 in /usr/local/lib/python3.7/dist-packages (from jupyter-client<8,>=6.1.3->voila) (22.3.0)\n",
            "Requirement already satisfied: nest-asyncio>=1.5 in /usr/local/lib/python3.7/dist-packages (from jupyter-client<8,>=6.1.3->voila) (1.5.4)\n",
            "Collecting tornado>=4.1\n",
            "  Downloading tornado-6.1-cp37-cp37m-manylinux2010_x86_64.whl (428 kB)\n",
            "\u001b[K     |████████████████████████████████| 428 kB 57.8 MB/s \n",
            "\u001b[?25hRequirement already satisfied: nbformat in /usr/local/lib/python3.7/dist-packages (from jupyter-server<2.0.0,>=0.3.0->voila) (5.1.3)\n",
            "Requirement already satisfied: ipython-genutils in /usr/local/lib/python3.7/dist-packages (from jupyter-server<2.0.0,>=0.3.0->voila) (0.2.0)\n",
            "Requirement already satisfied: prometheus-client in /usr/local/lib/python3.7/dist-packages (from jupyter-server<2.0.0,>=0.3.0->voila) (0.13.1)\n",
            "Requirement already satisfied: Send2Trash in /usr/local/lib/python3.7/dist-packages (from jupyter-server<2.0.0,>=0.3.0->voila) (1.8.0)\n",
            "Requirement already satisfied: jinja2 in /usr/local/lib/python3.7/dist-packages (from jupyter-server<2.0.0,>=0.3.0->voila) (2.11.3)\n",
            "Requirement already satisfied: packaging in /usr/local/lib/python3.7/dist-packages (from jupyter-server<2.0.0,>=0.3.0->voila) (21.3)\n",
            "Collecting anyio<4,>=3.1.0\n",
            "  Downloading anyio-3.5.0-py3-none-any.whl (79 kB)\n",
            "\u001b[K     |████████████████████████████████| 79 kB 6.6 MB/s \n",
            "\u001b[?25hRequirement already satisfied: argon2-cffi in /usr/local/lib/python3.7/dist-packages (from jupyter-server<2.0.0,>=0.3.0->voila) (21.3.0)\n",
            "Requirement already satisfied: terminado>=0.8.3 in /usr/local/lib/python3.7/dist-packages (from jupyter-server<2.0.0,>=0.3.0->voila) (0.13.1)\n",
            "Collecting websocket-client\n",
            "  Downloading websocket_client-1.3.1-py3-none-any.whl (54 kB)\n",
            "\u001b[K     |████████████████████████████████| 54 kB 2.2 MB/s \n",
            "\u001b[?25hCollecting sniffio>=1.1\n",
            "  Downloading sniffio-1.2.0-py3-none-any.whl (10 kB)\n",
            "Requirement already satisfied: idna>=2.8 in /usr/local/lib/python3.7/dist-packages (from anyio<4,>=3.1.0->jupyter-server<2.0.0,>=0.3.0->voila) (2.10)\n",
            "Requirement already satisfied: typing-extensions in /usr/local/lib/python3.7/dist-packages (from anyio<4,>=3.1.0->jupyter-server<2.0.0,>=0.3.0->voila) (3.10.0.2)\n",
            "Requirement already satisfied: requests in /usr/local/lib/python3.7/dist-packages (from jupyterlab-server<3,>=2.3.0->voila) (2.23.0)\n",
            "Collecting json5\n",
            "  Downloading json5-0.9.6-py2.py3-none-any.whl (18 kB)\n",
            "Requirement already satisfied: jsonschema>=3.0.1 in /usr/local/lib/python3.7/dist-packages (from jupyterlab-server<3,>=2.3.0->voila) (4.3.3)\n",
            "Requirement already satisfied: babel in /usr/local/lib/python3.7/dist-packages (from jupyterlab-server<3,>=2.3.0->voila) (2.9.1)\n",
            "Requirement already satisfied: MarkupSafe>=0.23 in /usr/local/lib/python3.7/dist-packages (from jinja2->jupyter-server<2.0.0,>=0.3.0->voila) (2.0.1)\n",
            "Requirement already satisfied: attrs>=17.4.0 in /usr/local/lib/python3.7/dist-packages (from jsonschema>=3.0.1->jupyterlab-server<3,>=2.3.0->voila) (21.4.0)\n",
            "Requirement already satisfied: pyrsistent!=0.17.0,!=0.17.1,!=0.17.2,>=0.14.0 in /usr/local/lib/python3.7/dist-packages (from jsonschema>=3.0.1->jupyterlab-server<3,>=2.3.0->voila) (0.18.1)\n",
            "Requirement already satisfied: importlib-metadata in /usr/local/lib/python3.7/dist-packages (from jsonschema>=3.0.1->jupyterlab-server<3,>=2.3.0->voila) (4.11.2)\n",
            "Requirement already satisfied: importlib-resources>=1.4.0 in /usr/local/lib/python3.7/dist-packages (from jsonschema>=3.0.1->jupyterlab-server<3,>=2.3.0->voila) (5.4.0)\n",
            "Requirement already satisfied: zipp>=3.1.0 in /usr/local/lib/python3.7/dist-packages (from importlib-resources>=1.4.0->jsonschema>=3.0.1->jupyterlab-server<3,>=2.3.0->voila) (3.7.0)\n",
            "Requirement already satisfied: bleach in /usr/local/lib/python3.7/dist-packages (from nbconvert<7,>=6.4.2->voila) (4.1.0)\n",
            "Requirement already satisfied: pandocfilters>=1.4.1 in /usr/local/lib/python3.7/dist-packages (from nbconvert<7,>=6.4.2->voila) (1.5.0)\n",
            "Requirement already satisfied: jupyterlab-pygments in /usr/local/lib/python3.7/dist-packages (from nbconvert<7,>=6.4.2->voila) (0.1.2)\n",
            "Requirement already satisfied: testpath in /usr/local/lib/python3.7/dist-packages (from nbconvert<7,>=6.4.2->voila) (0.6.0)\n",
            "Requirement already satisfied: pygments>=2.4.1 in /usr/local/lib/python3.7/dist-packages (from nbconvert<7,>=6.4.2->voila) (2.6.1)\n",
            "Requirement already satisfied: mistune<2,>=0.8.1 in /usr/local/lib/python3.7/dist-packages (from nbconvert<7,>=6.4.2->voila) (0.8.4)\n",
            "Requirement already satisfied: defusedxml in /usr/local/lib/python3.7/dist-packages (from nbconvert<7,>=6.4.2->voila) (0.7.1)\n",
            "Requirement already satisfied: six>=1.5 in /usr/local/lib/python3.7/dist-packages (from python-dateutil>=2.1->jupyter-client<8,>=6.1.3->voila) (1.15.0)\n",
            "Requirement already satisfied: ptyprocess in /usr/local/lib/python3.7/dist-packages (from terminado>=0.8.3->jupyter-server<2.0.0,>=0.3.0->voila) (0.7.0)\n",
            "Requirement already satisfied: argon2-cffi-bindings in /usr/local/lib/python3.7/dist-packages (from argon2-cffi->jupyter-server<2.0.0,>=0.3.0->voila) (21.2.0)\n",
            "Requirement already satisfied: cffi>=1.0.1 in /usr/local/lib/python3.7/dist-packages (from argon2-cffi-bindings->argon2-cffi->jupyter-server<2.0.0,>=0.3.0->voila) (1.15.0)\n",
            "Requirement already satisfied: pycparser in /usr/local/lib/python3.7/dist-packages (from cffi>=1.0.1->argon2-cffi-bindings->argon2-cffi->jupyter-server<2.0.0,>=0.3.0->voila) (2.21)\n",
            "Requirement already satisfied: pytz>=2015.7 in /usr/local/lib/python3.7/dist-packages (from babel->jupyterlab-server<3,>=2.3.0->voila) (2018.9)\n",
            "Requirement already satisfied: webencodings in /usr/local/lib/python3.7/dist-packages (from bleach->nbconvert<7,>=6.4.2->voila) (0.5.1)\n",
            "Requirement already satisfied: pyparsing!=3.0.5,>=2.0.2 in /usr/local/lib/python3.7/dist-packages (from packaging->jupyter-server<2.0.0,>=0.3.0->voila) (3.0.7)\n",
            "Requirement already satisfied: certifi>=2017.4.17 in /usr/local/lib/python3.7/dist-packages (from requests->jupyterlab-server<3,>=2.3.0->voila) (2021.10.8)\n",
            "Requirement already satisfied: chardet<4,>=3.0.2 in /usr/local/lib/python3.7/dist-packages (from requests->jupyterlab-server<3,>=2.3.0->voila) (3.0.4)\n",
            "Requirement already satisfied: urllib3!=1.25.0,!=1.25.1,<1.26,>=1.21.1 in /usr/local/lib/python3.7/dist-packages (from requests->jupyterlab-server<3,>=2.3.0->voila) (1.24.3)\n",
            "Installing collected packages: tornado, sniffio, websocket-client, anyio, jupyter-server, json5, websockets, jupyterlab-server, voila\n",
            "  Attempting uninstall: tornado\n",
            "    Found existing installation: tornado 5.1.1\n",
            "    Uninstalling tornado-5.1.1:\n",
            "      Successfully uninstalled tornado-5.1.1\n",
            "\u001b[31mERROR: pip's dependency resolver does not currently take into account all the packages that are installed. This behaviour is the source of the following dependency conflicts.\n",
            "google-colab 1.0.0 requires tornado~=5.1.0; python_version >= \"3.0\", but you have tornado 6.1 which is incompatible.\u001b[0m\n",
            "Successfully installed anyio-3.5.0 json5-0.9.6 jupyter-server-1.13.5 jupyterlab-server-2.10.3 sniffio-1.2.0 tornado-6.1 voila-0.3.2 websocket-client-1.3.1 websockets-10.2\n"
          ]
        },
        {
          "output_type": "display_data",
          "data": {
            "application/vnd.colab-display-data+json": {
              "pip_warning": {
                "packages": [
                  "tornado"
                ]
              }
            }
          },
          "metadata": {}
        },
        {
          "output_type": "stream",
          "name": "stdout",
          "text": [
            "Enabling: voila\n",
            "- Writing config: /usr/etc/jupyter\n",
            "    - Validating...\n",
            "Error loading server extension voila\n",
            "     \u001b[31m X\u001b[0m is voila importable?\n"
          ]
        }
      ]
    }
  ]
}